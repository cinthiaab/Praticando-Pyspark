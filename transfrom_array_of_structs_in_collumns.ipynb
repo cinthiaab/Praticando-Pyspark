{
 "cells": [
  {
   "cell_type": "code",
   "execution_count": 8,
   "metadata": {},
   "outputs": [],
   "source": [
    "from pyspark.sql import SparkSession\n",
    "from pyspark.sql.functions import *\n",
    "import json\n",
    "from collections import namedtuple\n"
   ]
  },
  {
   "cell_type": "code",
   "execution_count": 9,
   "metadata": {},
   "outputs": [],
   "source": [
    "spark = SparkSession.builder.appName('teste').getOrCreate()"
   ]
  },
  {
   "cell_type": "code",
   "execution_count": 10,
   "metadata": {},
   "outputs": [
    {
     "name": "stdout",
     "output_type": "stream",
     "text": [
      "+-----------+-------+---------------------------------------------------+\n",
      "|visitnumber|visitid|customdimensions                                   |\n",
      "+-----------+-------+---------------------------------------------------+\n",
      "|3          |id-3   |[{1, example1}, {2, example2}, {3, example3}]      |\n",
      "|4          |id-4   |[{1, example4}, {2, example5}, {3, example6}]      |\n",
      "|5          |id-5   |[{1, example7}, {2, }, {3, example9}]              |\n",
      "|6          |id-6   |[{15, example10}, {10, example11}, {4, example12}] |\n",
      "|7          |id-7   |[{16, example13}, {10, example14}, {14, example15}]|\n",
      "|8          |id-8   |[{16, example16}, {1, example17}, {3, }]           |\n",
      "+-----------+-------+---------------------------------------------------+\n",
      "\n",
      "root\n",
      " |-- visitnumber: string (nullable = true)\n",
      " |-- visitid: string (nullable = true)\n",
      " |-- customdimensions: array (nullable = true)\n",
      " |    |-- element: struct (containsNull = true)\n",
      " |    |    |-- index: integer (nullable = true)\n",
      " |    |    |-- value: string (nullable = true)\n",
      "\n"
     ]
    }
   ],
   "source": [
    "# Defina o esquema\n",
    "from pyspark.sql.types import StructType, StructField, StringType, IntegerType, ArrayType\n",
    "schema = StructType([\n",
    "    StructField(\"visitnumber\", StringType(), True),\n",
    "    StructField(\"visitid\", StringType(), True),\n",
    "    StructField(\"customdimensions\", ArrayType(StructType([\n",
    "        StructField(\"index\", IntegerType(), True),\n",
    "        StructField(\"value\", StringType(), True)\n",
    "    ])), True)\n",
    "])\n",
    "\n",
    "# Crie um DataFrame a partir do esquema\n",
    "\n",
    "df = spark.read.json(\"dados_para_teste/array_of_structs.json\", multiLine=True, schema=schema)\n",
    "df.show(truncate=False)\n",
    "df.printSchema()\n"
   ]
  },
  {
   "cell_type": "code",
   "execution_count": 11,
   "metadata": {},
   "outputs": [
    {
     "name": "stdout",
     "output_type": "stream",
     "text": [
      "+-----------+-------+---------------------------------------------------+\n",
      "|visitnumber|visitid|customdimensions                                   |\n",
      "+-----------+-------+---------------------------------------------------+\n",
      "|3          |id-3   |{1 -> example1, 2 -> example2, 3 -> example3}      |\n",
      "|4          |id-4   |{1 -> example4, 2 -> example5, 3 -> example6}      |\n",
      "|5          |id-5   |{1 -> example7, 2 -> , 3 -> example9}              |\n",
      "|6          |id-6   |{15 -> example10, 10 -> example11, 4 -> example12} |\n",
      "|7          |id-7   |{16 -> example13, 10 -> example14, 14 -> example15}|\n",
      "|8          |id-8   |{16 -> example16, 1 -> example17, 3 -> }           |\n",
      "+-----------+-------+---------------------------------------------------+\n",
      "\n",
      "root\n",
      " |-- visitnumber: string (nullable = true)\n",
      " |-- visitid: string (nullable = true)\n",
      " |-- customdimensions: map (nullable = true)\n",
      " |    |-- key: integer\n",
      " |    |-- value: string (valueContainsNull = true)\n",
      "\n"
     ]
    }
   ],
   "source": [
    "df_new = df.withColumn(\"customdimensions\", map_from_entries(\"customdimensions\"))\n",
    "df_new.show(truncate=False)\n",
    "df_new.printSchema()"
   ]
  },
  {
   "cell_type": "code",
   "execution_count": 12,
   "metadata": {},
   "outputs": [],
   "source": [
    "indices_selecionados = namedtuple('indices_selecionados', ['index', 'nome'])\n",
    "lista_indices_selecionados = [\n",
    "    indices_selecionados(1, \"nome1\"), \n",
    "    indices_selecionados(3, \"nome2\"), \n",
    "    indices_selecionados(14, \"nome3\"), \n",
    "    indices_selecionados(16, \"nome4\")\n",
    "]\n",
    "\n",
    "for y in lista_indices_selecionados:\n",
    "    nome_col = \"index_\" + str(y.nome)\n",
    "    \n",
    "    \n",
    "    a = df_new.customdimensions.getField(y.index)\n",
    "        \n",
    "    \n",
    "    df_new = df_new.withColumn(nome_col, a)\n",
    "    "
   ]
  },
  {
   "cell_type": "code",
   "execution_count": 13,
   "metadata": {},
   "outputs": [
    {
     "name": "stdout",
     "output_type": "stream",
     "text": [
      "+-----------+-------+---------------------------------------------------+-----------+-----------+-----------+-----------+\n",
      "|visitnumber|visitid|customdimensions                                   |index_nome1|index_nome2|index_nome3|index_nome4|\n",
      "+-----------+-------+---------------------------------------------------+-----------+-----------+-----------+-----------+\n",
      "|3          |id-3   |{1 -> example1, 2 -> example2, 3 -> example3}      |example1   |example3   |null       |null       |\n",
      "|4          |id-4   |{1 -> example4, 2 -> example5, 3 -> example6}      |example4   |example6   |null       |null       |\n",
      "|5          |id-5   |{1 -> example7, 2 -> , 3 -> example9}              |example7   |example9   |null       |null       |\n",
      "|6          |id-6   |{15 -> example10, 10 -> example11, 4 -> example12} |null       |null       |null       |null       |\n",
      "|7          |id-7   |{16 -> example13, 10 -> example14, 14 -> example15}|null       |null       |example15  |example13  |\n",
      "|8          |id-8   |{16 -> example16, 1 -> example17, 3 -> }           |example17  |           |null       |example16  |\n",
      "+-----------+-------+---------------------------------------------------+-----------+-----------+-----------+-----------+\n",
      "\n",
      "root\n",
      " |-- visitnumber: string (nullable = true)\n",
      " |-- visitid: string (nullable = true)\n",
      " |-- customdimensions: map (nullable = true)\n",
      " |    |-- key: integer\n",
      " |    |-- value: string (valueContainsNull = true)\n",
      " |-- index_nome1: string (nullable = true)\n",
      " |-- index_nome2: string (nullable = true)\n",
      " |-- index_nome3: string (nullable = true)\n",
      " |-- index_nome4: string (nullable = true)\n",
      "\n"
     ]
    }
   ],
   "source": [
    "df_new.show(truncate=False)\n",
    "df_new.printSchema()"
   ]
  }
 ],
 "metadata": {
  "kernelspec": {
   "display_name": "Python 3",
   "language": "python",
   "name": "python3"
  },
  "language_info": {
   "codemirror_mode": {
    "name": "ipython",
    "version": 3
   },
   "file_extension": ".py",
   "mimetype": "text/x-python",
   "name": "python",
   "nbconvert_exporter": "python",
   "pygments_lexer": "ipython3",
   "version": "3.10.7"
  },
  "orig_nbformat": 4
 },
 "nbformat": 4,
 "nbformat_minor": 2
}
